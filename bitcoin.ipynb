{
  "nbformat": 4,
  "nbformat_minor": 0,
  "metadata": {
    "colab": {
      "name": "bitcoin.ipynb",
      "version": "0.3.2",
      "provenance": []
    },
    "kernelspec": {
      "name": "python3",
      "display_name": "Python 3"
    },
    "accelerator": "GPU"
  },
  "cells": [
    {
      "cell_type": "code",
      "metadata": {
        "id": "DmxEWbB9SJ2J",
        "colab_type": "code",
        "colab": {
          "base_uri": "https://localhost:8080/",
          "height": 84
        },
        "outputId": "b068d8bc-251c-4bd2-f945-1a7563ba041c"
      },
      "source": [
        "! git clone https://github.com/JerryWei03/DeepCryptocurrency.git"
      ],
      "execution_count": 3,
      "outputs": [
        {
          "output_type": "stream",
          "text": [
            "Cloning into 'DeepCryptocurrency'...\n",
            "remote: Enumerating objects: 30, done.\u001b[K\n",
            "remote: Total 30 (delta 0), reused 0 (delta 0), pack-reused 30\u001b[K\n",
            "Unpacking objects: 100% (30/30), done.\n"
          ],
          "name": "stdout"
        }
      ]
    },
    {
      "cell_type": "code",
      "metadata": {
        "id": "2ZmrBx9DSJ44",
        "colab_type": "code",
        "colab": {
          "base_uri": "https://localhost:8080/",
          "height": 34
        },
        "outputId": "6b2315c5-5b8a-4def-8970-bfb5fbc3915b"
      },
      "source": [
        "cd /content/DeepCryptocurrency"
      ],
      "execution_count": 4,
      "outputs": [
        {
          "output_type": "stream",
          "text": [
            "/content/DeepCryptocurrency\n"
          ],
          "name": "stdout"
        }
      ]
    },
    {
      "cell_type": "code",
      "metadata": {
        "id": "WfqTq9-jTJWc",
        "colab_type": "code",
        "colab": {
          "base_uri": "https://localhost:8080/",
          "height": 34
        },
        "outputId": "e4a4245c-96c3-4353-c7e9-d8a5a6d5cc28"
      },
      "source": [
        "pwd"
      ],
      "execution_count": 5,
      "outputs": [
        {
          "output_type": "execute_result",
          "data": {
            "text/plain": [
              "'/content/DeepCryptocurrency'"
            ]
          },
          "metadata": {
            "tags": []
          },
          "execution_count": 5
        }
      ]
    },
    {
      "cell_type": "code",
      "metadata": {
        "id": "PH-nxV61SJ7q",
        "colab_type": "code",
        "colab": {}
      },
      "source": [
        "from keras.layers.core import Dense, Activation, Dropout\n",
        "from keras.layers.recurrent import LSTM\n",
        "from keras.layers import Bidirectional\n",
        "from keras.models import Sequential\n",
        "from sklearn.metrics import mean_squared_error\n",
        "import time\n",
        "import numpy as np\n",
        "import matplotlib.pyplot as plt\n",
        "import pandas as pd\n",
        "import math"
      ],
      "execution_count": 0,
      "outputs": []
    },
    {
      "cell_type": "code",
      "metadata": {
        "id": "eylbkdDoSJ-Y",
        "colab_type": "code",
        "colab": {}
      },
      "source": [
        "def load_data(filename, sequence_length):\n",
        "    \"\"\"\n",
        "    Loads the bitcoin data\n",
        "    \n",
        "    Arguments:\n",
        "    filename -- A string that represents where the .csv file can be located\n",
        "    sequence_length -- An integer of how many days should be looked at in a row\n",
        "    \n",
        "    Returns:\n",
        "    X_train -- A tensor of shape (2400, 49, 35) that will be inputed into the model to train it\n",
        "    Y_train -- A tensor of shape (2400,) that will be inputed into the model to train it\n",
        "    X_test -- A tensor of shape (267, 49, 35) that will be used to test the model's proficiency\n",
        "    Y_test -- A tensor of shape (267,) that will be used to check the model's predictions\n",
        "    Y_daybefore -- A tensor of shape (267,) that represents the price of bitcoin the day before each Y_test value\n",
        "    unnormalized_bases -- A tensor of shape (267,) that will be used to get the true prices from the normalized ones\n",
        "    window_size -- An integer that represents how many days of X values the model can look at at once\n",
        "    \"\"\"\n",
        "    #Read the data file\n",
        "    raw_data = pd.read_csv(filename, dtype = float).values\n",
        "    \n",
        "    #Change all zeros to the number before the zero occurs\n",
        "    for x in range(0, raw_data.shape[0]):\n",
        "        for y in range(0, raw_data.shape[1]):\n",
        "            if(raw_data[x][y] == 0):\n",
        "                raw_data[x][y] = raw_data[x-1][y]\n",
        "    \n",
        "    #Convert the file to a list\n",
        "    data = raw_data.tolist()\n",
        "    \n",
        "    #Convert the data to a 3D array (a x b x c) \n",
        "    #Where a is the number of days, b is the window size, and c is the number of features in the data file\n",
        "    result = []\n",
        "    for index in range(len(data) - sequence_length):\n",
        "        result.append(data[index: index + sequence_length])\n",
        "    \n",
        "    #Normalizing data by going through each window\n",
        "    #Every value in the window is divided by the first value in the window, and then 1 is subtracted\n",
        "    d0 = np.array(result)\n",
        "    dr = np.zeros_like(d0)\n",
        "    dr[:,1:,:] = d0[:,1:,:] / d0[:,0:1,:] - 1\n",
        "    \n",
        "    #Keeping the unnormalized prices for Y_test\n",
        "    #Useful when graphing bitcoin price over time later\n",
        "    start = 2400\n",
        "    end = int(dr.shape[0] + 1)\n",
        "    unnormalized_bases = d0[start:end,0:1,20]\n",
        "    \n",
        "    #Splitting data set into training (First 90% of data points) and testing data (last 10% of data points)\n",
        "    split_line = round(0.9 * dr.shape[0])\n",
        "    training_data = dr[:int(split_line), :]\n",
        "    \n",
        "    #Shuffle the data\n",
        "    np.random.shuffle(training_data)\n",
        "    \n",
        "    #Training Data\n",
        "    X_train = training_data[:, :-1]\n",
        "    Y_train = training_data[:, -1]\n",
        "    Y_train = Y_train[:, 20]\n",
        "    \n",
        "    #Testing data\n",
        "    X_test = dr[int(split_line):, :-1]\n",
        "    Y_test = dr[int(split_line):, 49, :]\n",
        "    Y_test = Y_test[:, 20]\n",
        "\n",
        "    #Get the day before Y_test's price\n",
        "    Y_daybefore = dr[int(split_line):, 48, :]\n",
        "    Y_daybefore = Y_daybefore[:, 20]\n",
        "    \n",
        "    #Get window size and sequence length\n",
        "    sequence_length = sequence_length\n",
        "    window_size = sequence_length - 1 #because the last value is reserved as the y value\n",
        "    \n",
        "    return X_train, Y_train, X_test, Y_test, Y_daybefore, unnormalized_bases, window_size"
      ],
      "execution_count": 0,
      "outputs": []
    },
    {
      "cell_type": "code",
      "metadata": {
        "id": "aYjd3Cl_SKA7",
        "colab_type": "code",
        "colab": {}
      },
      "source": [
        "def initialize_model(window_size, dropout_value, activation_function, loss_function, optimizer):\n",
        "    \"\"\"\n",
        "    Initializes and creates the model to be used\n",
        "    \n",
        "    Arguments:\n",
        "    window_size -- An integer that represents how many days of X_values the model can look at at once\n",
        "    dropout_value -- A decimal representing how much dropout should be incorporated at each level, in this case 0.2\n",
        "    activation_function -- A string to define the activation_function, in this case it is linear\n",
        "    loss_function -- A string to define the loss function to be used, in the case it is mean squared error\n",
        "    optimizer -- A string to define the optimizer to be used, in the case it is adam\n",
        "    \n",
        "    Returns:\n",
        "    model -- A 3 layer RNN with 100*dropout_value dropout in each layer that uses activation_function as its activation\n",
        "             function, loss_function as its loss function, and optimizer as its optimizer\n",
        "    \"\"\"\n",
        "    #Create a Sequential model using Keras\n",
        "    model = Sequential()\n",
        "\n",
        "    #First recurrent layer with dropout\n",
        "    model.add(Bidirectional(LSTM(window_size, return_sequences=True), input_shape=(window_size, X_train.shape[-1]),))\n",
        "    model.add(Dropout(dropout_value))\n",
        "\n",
        "    #Second recurrent layer with dropout\n",
        "    model.add(Bidirectional(LSTM((window_size*2), return_sequences=True)))\n",
        "    model.add(Dropout(dropout_value))\n",
        "\n",
        "    #Third recurrent layer\n",
        "    model.add(Bidirectional(LSTM(window_size, return_sequences=False)))\n",
        "\n",
        "    #Output layer (returns the predicted value)\n",
        "    model.add(Dense(units=1))\n",
        "    \n",
        "    #Set activation function\n",
        "    model.add(Activation(activation_function))\n",
        "\n",
        "    #Set loss function and optimizer\n",
        "    model.compile(loss=loss_function, optimizer=optimizer)\n",
        "    \n",
        "    return model\n",
        "  "
      ],
      "execution_count": 0,
      "outputs": []
    },
    {
      "cell_type": "code",
      "metadata": {
        "id": "C3qtraWtSKED",
        "colab_type": "code",
        "colab": {}
      },
      "source": [
        "def fit_model(model, X_train, Y_train, batch_num, num_epoch, val_split):\n",
        "    \"\"\"\n",
        "    Fits the model to the training data\n",
        "    \n",
        "    Arguments:\n",
        "    model -- The previously initalized 3 layer Recurrent Neural Network\n",
        "    X_train -- A tensor of shape (2400, 49, 35) that represents the x values of the training data\n",
        "    Y_train -- A tensor of shape (2400,) that represents the y values of the training data\n",
        "    batch_num -- An integer representing the batch size to be used, in this case 1024\n",
        "    num_epoch -- An integer defining the number of epochs to be run, in this case 100\n",
        "    val_split -- A decimal representing the proportion of training data to be used as validation data\n",
        "    \n",
        "    Returns:\n",
        "    model -- The 3 layer Recurrent Neural Network that has been fitted to the training data\n",
        "    training_time -- An integer representing the amount of time (in seconds) that the model was training\n",
        "    \"\"\"\n",
        "    #Record the time the model starts training\n",
        "    start = time.time()\n",
        "\n",
        "    #Train the model on X_train and Y_train\n",
        "    model.fit(X_train, Y_train, batch_size= batch_num, nb_epoch=num_epoch, validation_split= val_split)\n",
        "\n",
        "    #Get the time it took to train the model (in seconds)\n",
        "    training_time = int(math.floor(time.time() - start))\n",
        "    return model, training_time"
      ],
      "execution_count": 0,
      "outputs": []
    },
    {
      "cell_type": "code",
      "metadata": {
        "id": "7Ji94fbwShl9",
        "colab_type": "code",
        "colab": {}
      },
      "source": [
        "def test_model(model, X_test, Y_test, unnormalized_bases):\n",
        "    \"\"\"\n",
        "    Test the model on the testing data\n",
        "    \n",
        "    Arguments:\n",
        "    model -- The previously fitted 3 layer Recurrent Neural Network\n",
        "    X_test -- A tensor of shape (267, 49, 35) that represents the x values of the testing data\n",
        "    Y_test -- A tensor of shape (267,) that represents the y values of the testing data\n",
        "    unnormalized_bases -- A tensor of shape (267,) that can be used to get unnormalized data points\n",
        "    \n",
        "    Returns:\n",
        "    y_predict -- A tensor of shape (267,) that represnts the normalized values that the model predicts based on X_test\n",
        "    real_y_test -- A tensor of shape (267,) that represents the actual prices of bitcoin throughout the testing period\n",
        "    real_y_predict -- A tensor of shape (267,) that represents the model's predicted prices of bitcoin\n",
        "    fig -- A branch of the graph of the real predicted prices of bitcoin versus the real prices of bitcoin\n",
        "    \"\"\"\n",
        "    #Test the model on X_Test\n",
        "    y_predict = model.predict(X_test)\n",
        "\n",
        "    #Create empty 2D arrays to store unnormalized values\n",
        "    real_y_test = np.zeros_like(Y_test)\n",
        "    real_y_predict = np.zeros_like(y_predict)\n",
        "\n",
        "    #Fill the 2D arrays with the real value and the predicted value by reversing the normalization process\n",
        "    for i in range(Y_test.shape[0]):\n",
        "        y = Y_test[i]\n",
        "        predict = y_predict[i]\n",
        "        real_y_test[i] = (y+1)*unnormalized_bases[i]\n",
        "        real_y_predict[i] = (predict+1)*unnormalized_bases[i]\n",
        "\n",
        "    #Plot of the predicted prices versus the real prices\n",
        "    fig = plt.figure(figsize=(10,5))\n",
        "    ax = fig.add_subplot(111)\n",
        "    ax.set_title(\"Bitcoin Price Over Time\")\n",
        "    plt.plot(real_y_predict, color = 'green', label = 'Predicted Price')\n",
        "    plt.plot(real_y_test, color = 'red', label = 'Real Price')\n",
        "    ax.set_ylabel(\"Price (USD)\")\n",
        "    ax.set_xlabel(\"Time (Days)\")\n",
        "    ax.legend()\n",
        "    \n",
        "    return y_predict, real_y_test, real_y_predict, fig"
      ],
      "execution_count": 0,
      "outputs": []
    },
    {
      "cell_type": "code",
      "metadata": {
        "id": "-NGkSiFdSkiv",
        "colab_type": "code",
        "colab": {}
      },
      "source": [
        "def price_change(Y_daybefore, Y_test, y_predict):\n",
        "    \"\"\"\n",
        "    Calculate the percent change between each value and the day before\n",
        "    \n",
        "    Arguments:\n",
        "    Y_daybefore -- A tensor of shape (267,) that represents the prices of each day before each price in Y_test\n",
        "    Y_test -- A tensor of shape (267,) that represents the normalized y values of the testing data\n",
        "    y_predict -- A tensor of shape (267,) that represents the normalized y values of the model's predictions\n",
        "    \n",
        "    Returns:\n",
        "    Y_daybefore -- A tensor of shape (267, 1) that represents the prices of each day before each price in Y_test\n",
        "    Y_test -- A tensor of shape (267, 1) that represents the normalized y values of the testing data\n",
        "    delta_predict -- A tensor of shape (267, 1) that represents the difference between predicted and day before values\n",
        "    delta_real -- A tensor of shape (267, 1) that represents the difference between real and day before values\n",
        "    fig -- A plot representing percent change in bitcoin price per day,\n",
        "    \"\"\"\n",
        "    #Reshaping Y_daybefore and Y_test\n",
        "    Y_daybefore = np.reshape(Y_daybefore, (-1, 1))\n",
        "    Y_test = np.reshape(Y_test, (-1, 1))\n",
        "\n",
        "    #The difference between each predicted value and the value from the day before\n",
        "    delta_predict = (y_predict - Y_daybefore) / (1+Y_daybefore)\n",
        "\n",
        "    #The difference between each true value and the value from the day before\n",
        "    delta_real = (Y_test - Y_daybefore) / (1+Y_daybefore)\n",
        "\n",
        "    #Plotting the predicted percent change versus the real percent change\n",
        "    fig = plt.figure(figsize=(10, 6))\n",
        "    ax = fig.add_subplot(111)\n",
        "    ax.set_title(\"Percent Change in Bitcoin Price Per Day\")\n",
        "    plt.plot(delta_predict, color='green', label = 'Predicted Percent Change')\n",
        "    plt.plot(delta_real, color='red', label = 'Real Percent Change')\n",
        "    plt.ylabel(\"Percent Change\")\n",
        "    plt.xlabel(\"Time (Days)\")\n",
        "    ax.legend()\n",
        "    plt.show()\n",
        "    \n",
        "    return Y_daybefore, Y_test, delta_predict, delta_real, fig"
      ],
      "execution_count": 0,
      "outputs": []
    },
    {
      "cell_type": "code",
      "metadata": {
        "id": "MYLgr2ubSpMe",
        "colab_type": "code",
        "colab": {}
      },
      "source": [
        "def binary_price(delta_predict, delta_real):\n",
        "    \"\"\"\n",
        "    Converts percent change to a binary 1 or 0, where 1 is an increase and 0 is a decrease/no change\n",
        "    \n",
        "    Arguments:\n",
        "    delta_predict -- A tensor of shape (267, 1) that represents the predicted percent change in price\n",
        "    delta_real -- A tensor of shape (267, 1) that represents the real percent change in price\n",
        "    \n",
        "    Returns:\n",
        "    delta_predict_1_0 -- A tensor of shape (267, 1) that represents the binary version of delta_predict\n",
        "    delta_real_1_0 -- A tensor of shape (267, 1) that represents the binary version of delta_real\n",
        "    \"\"\"\n",
        "    #Empty arrays where a 1 represents an increase in price and a 0 represents a decrease in price\n",
        "    delta_predict_1_0 = np.empty(delta_predict.shape)\n",
        "    delta_real_1_0 = np.empty(delta_real.shape)\n",
        "\n",
        "    #If the change in price is greater than zero, store it as a 1\n",
        "    #If the change in price is less than zero, store it as a 0\n",
        "    for i in range(delta_predict.shape[0]):\n",
        "        if delta_predict[i][0] > 0:\n",
        "            delta_predict_1_0[i][0] = 1\n",
        "        else:\n",
        "            delta_predict_1_0[i][0] = 0\n",
        "    for i in range(delta_real.shape[0]):\n",
        "        if delta_real[i][0] > 0:\n",
        "            delta_real_1_0[i][0] = 1\n",
        "        else:\n",
        "            delta_real_1_0[i][0] = 0    \n",
        "\n",
        "    return delta_predict_1_0, delta_real_1_0"
      ],
      "execution_count": 0,
      "outputs": []
    },
    {
      "cell_type": "code",
      "metadata": {
        "id": "94uoV_o7SsLy",
        "colab_type": "code",
        "colab": {}
      },
      "source": [
        "def find_positives_negatives(delta_predict_1_0, delta_real_1_0):\n",
        "    \"\"\"\n",
        "    Finding the number of false positives, false negatives, true positives, true negatives\n",
        "    \n",
        "    Arguments: \n",
        "    delta_predict_1_0 -- A tensor of shape (267, 1) that represents the binary version of delta_predict\n",
        "    delta_real_1_0 -- A tensor of shape (267, 1) that represents the binary version of delta_real\n",
        "    \n",
        "    Returns:\n",
        "    true_pos -- An integer that represents the number of true positives achieved by the model\n",
        "    false_pos -- An integer that represents the number of false positives achieved by the model\n",
        "    true_neg -- An integer that represents the number of true negatives achieved by the model\n",
        "    false_neg -- An integer that represents the number of false negatives achieved by the model\n",
        "    \"\"\"\n",
        "    #Finding the number of false positive/negatives and true positives/negatives\n",
        "    true_pos = 0\n",
        "    false_pos = 0\n",
        "    true_neg = 0\n",
        "    false_neg = 0\n",
        "    for i in range(delta_real_1_0.shape[0]):\n",
        "        real = delta_real_1_0[i][0]\n",
        "        predicted = delta_predict_1_0[i][0]\n",
        "        if real == 1:\n",
        "            if predicted == 1:\n",
        "                true_pos += 1\n",
        "            else:\n",
        "                false_neg += 1\n",
        "        elif real == 0:\n",
        "            if predicted == 0:\n",
        "                true_neg += 1\n",
        "            else:\n",
        "                false_pos += 1\n",
        "    return true_pos, false_pos, true_neg, false_neg"
      ],
      "execution_count": 0,
      "outputs": []
    },
    {
      "cell_type": "code",
      "metadata": {
        "id": "cUj5BOXQSwSZ",
        "colab_type": "code",
        "colab": {}
      },
      "source": [
        "def calculate_statistics(true_pos, false_pos, true_neg, false_neg, y_predict, Y_test):\n",
        "    \"\"\"\n",
        "    Calculate various statistics to assess performance\n",
        "    \n",
        "    Arguments:\n",
        "    true_pos -- An integer that represents the number of true positives achieved by the model\n",
        "    false_pos -- An integer that represents the number of false positives achieved by the model\n",
        "    true_neg -- An integer that represents the number of true negatives achieved by the model\n",
        "    false_neg -- An integer that represents the number of false negatives achieved by the model\n",
        "    Y_test -- A tensor of shape (267, 1) that represents the normalized y values of the testing data\n",
        "    y_predict -- A tensor of shape (267, 1) that represents the normalized y values of the model's predictions\n",
        "    \n",
        "    Returns:\n",
        "    precision -- How often the model gets a true positive compared to how often it returns a positive\n",
        "    recall -- How often the model gets a true positive compared to how often is hould have gotten a positive\n",
        "    F1 -- The weighted average of recall and precision\n",
        "    Mean Squared Error -- The average of the squares of the differences between predicted and real values\n",
        "    \"\"\"\n",
        "    precision = float(true_pos) / (true_pos + false_pos)\n",
        "    recall = float(true_pos) / (true_pos + false_neg)\n",
        "    F1 = float(2 * precision * recall) / (precision + recall)\n",
        "    #Get Mean Squared Error\n",
        "    MSE = mean_squared_error(y_predict.flatten(), Y_test.flatten())\n",
        "\n",
        "    return precision, recall, F1, MSE"
      ],
      "execution_count": 0,
      "outputs": []
    },
    {
      "cell_type": "code",
      "metadata": {
        "id": "3iexTOsRSzPi",
        "colab_type": "code",
        "colab": {
          "base_uri": "https://localhost:8080/",
          "height": 134
        },
        "outputId": "a6e89488-c6a9-4c73-f2f5-c4d27e540f1c"
      },
      "source": [
        "X_train, Y_train, X_test, Y_test, Y_daybefore, unnormalized_bases, window_size = load_data(\"Bitcoin Data.csv\", 50)\n",
        "print (X_train.shape)\n",
        "print (Y_train.shape)\n",
        "print (X_test.shape)\n",
        "print (Y_test.shape)\n",
        "print (Y_daybefore.shape)\n",
        "print (unnormalized_bases.shape)\n",
        "print (window_size)"
      ],
      "execution_count": 15,
      "outputs": [
        {
          "output_type": "stream",
          "text": [
            "(2400, 49, 35)\n",
            "(2400,)\n",
            "(267, 49, 35)\n",
            "(267,)\n",
            "(267,)\n",
            "(267, 1)\n",
            "49\n"
          ],
          "name": "stdout"
        }
      ]
    },
    {
      "cell_type": "code",
      "metadata": {
        "id": "aLnWc1MdS1SX",
        "colab_type": "code",
        "colab": {
          "base_uri": "https://localhost:8080/",
          "height": 642
        },
        "outputId": "664965aa-a466-4e91-f41f-7bea834a1448"
      },
      "source": [
        "\n",
        "model = initialize_model(window_size, 0.2, 'linear', 'mse', 'adam')\n",
        "print (model.summary())"
      ],
      "execution_count": 16,
      "outputs": [
        {
          "output_type": "stream",
          "text": [
            "WARNING: Logging before flag parsing goes to stderr.\n",
            "W0824 15:44:47.294524 139666343200640 deprecation_wrapper.py:119] From /usr/local/lib/python3.6/dist-packages/keras/backend/tensorflow_backend.py:74: The name tf.get_default_graph is deprecated. Please use tf.compat.v1.get_default_graph instead.\n",
            "\n",
            "W0824 15:44:47.342144 139666343200640 deprecation_wrapper.py:119] From /usr/local/lib/python3.6/dist-packages/keras/backend/tensorflow_backend.py:517: The name tf.placeholder is deprecated. Please use tf.compat.v1.placeholder instead.\n",
            "\n",
            "W0824 15:44:47.351677 139666343200640 deprecation_wrapper.py:119] From /usr/local/lib/python3.6/dist-packages/keras/backend/tensorflow_backend.py:4138: The name tf.random_uniform is deprecated. Please use tf.random.uniform instead.\n",
            "\n",
            "W0824 15:44:47.738621 139666343200640 deprecation_wrapper.py:119] From /usr/local/lib/python3.6/dist-packages/keras/backend/tensorflow_backend.py:133: The name tf.placeholder_with_default is deprecated. Please use tf.compat.v1.placeholder_with_default instead.\n",
            "\n",
            "W0824 15:44:47.746939 139666343200640 deprecation.py:506] From /usr/local/lib/python3.6/dist-packages/keras/backend/tensorflow_backend.py:3445: calling dropout (from tensorflow.python.ops.nn_ops) with keep_prob is deprecated and will be removed in a future version.\n",
            "Instructions for updating:\n",
            "Please use `rate` instead of `keep_prob`. Rate should be set to `rate = 1 - keep_prob`.\n",
            "W0824 15:44:48.630631 139666343200640 deprecation_wrapper.py:119] From /usr/local/lib/python3.6/dist-packages/keras/optimizers.py:790: The name tf.train.Optimizer is deprecated. Please use tf.compat.v1.train.Optimizer instead.\n",
            "\n"
          ],
          "name": "stderr"
        },
        {
          "output_type": "stream",
          "text": [
            "_________________________________________________________________\n",
            "Layer (type)                 Output Shape              Param #   \n",
            "=================================================================\n",
            "bidirectional_1 (Bidirection (None, 49, 98)            33320     \n",
            "_________________________________________________________________\n",
            "dropout_1 (Dropout)          (None, 49, 98)            0         \n",
            "_________________________________________________________________\n",
            "bidirectional_2 (Bidirection (None, 49, 196)           154448    \n",
            "_________________________________________________________________\n",
            "dropout_2 (Dropout)          (None, 49, 196)           0         \n",
            "_________________________________________________________________\n",
            "bidirectional_3 (Bidirection (None, 98)                96432     \n",
            "_________________________________________________________________\n",
            "dense_1 (Dense)              (None, 1)                 99        \n",
            "_________________________________________________________________\n",
            "activation_1 (Activation)    (None, 1)                 0         \n",
            "=================================================================\n",
            "Total params: 284,299\n",
            "Trainable params: 284,299\n",
            "Non-trainable params: 0\n",
            "_________________________________________________________________\n",
            "None\n"
          ],
          "name": "stdout"
        }
      ]
    },
    {
      "cell_type": "code",
      "metadata": {
        "id": "ygIm4WstS7OS",
        "colab_type": "code",
        "colab": {
          "base_uri": "https://localhost:8080/",
          "height": 1000
        },
        "outputId": "dc4e937f-de50-4fb1-e7e7-e209f0635ab8"
      },
      "source": [
        "model, training_time = fit_model(model, X_train, Y_train, 1024, 100, .05)\n",
        "\n",
        "#Print the training time\n",
        "print (\"Training time\", training_time, \"seconds\")"
      ],
      "execution_count": 17,
      "outputs": [
        {
          "output_type": "stream",
          "text": [
            "/usr/local/lib/python3.6/dist-packages/ipykernel_launcher.py:21: UserWarning: The `nb_epoch` argument in `fit` has been renamed `epochs`.\n",
            "W0824 15:44:51.278497 139666343200640 deprecation.py:323] From /usr/local/lib/python3.6/dist-packages/tensorflow/python/ops/math_grad.py:1250: add_dispatch_support.<locals>.wrapper (from tensorflow.python.ops.array_ops) is deprecated and will be removed in a future version.\n",
            "Instructions for updating:\n",
            "Use tf.where in 2.0, which has the same broadcast rule as np.where\n",
            "W0824 15:44:54.286667 139666343200640 deprecation_wrapper.py:119] From /usr/local/lib/python3.6/dist-packages/keras/backend/tensorflow_backend.py:986: The name tf.assign_add is deprecated. Please use tf.compat.v1.assign_add instead.\n",
            "\n"
          ],
          "name": "stderr"
        },
        {
          "output_type": "stream",
          "text": [
            "Train on 2280 samples, validate on 120 samples\n",
            "Epoch 1/100\n",
            "2280/2280 [==============================] - 8s 4ms/step - loss: 2.9275 - val_loss: 2.1123\n",
            "Epoch 2/100\n",
            "2280/2280 [==============================] - 1s 643us/step - loss: 2.0666 - val_loss: 1.7393\n",
            "Epoch 3/100\n",
            "2280/2280 [==============================] - 1s 647us/step - loss: 1.7085 - val_loss: 1.3729\n",
            "Epoch 4/100\n",
            "2280/2280 [==============================] - 2s 661us/step - loss: 1.3557 - val_loss: 1.2474\n",
            "Epoch 5/100\n",
            "2280/2280 [==============================] - 1s 651us/step - loss: 1.1336 - val_loss: 1.1426\n",
            "Epoch 6/100\n",
            "2280/2280 [==============================] - 2s 658us/step - loss: 0.9402 - val_loss: 0.8878\n",
            "Epoch 7/100\n",
            "2280/2280 [==============================] - 1s 651us/step - loss: 0.7416 - val_loss: 0.6958\n",
            "Epoch 8/100\n",
            "2280/2280 [==============================] - 2s 668us/step - loss: 0.5521 - val_loss: 0.5861\n",
            "Epoch 9/100\n",
            "2280/2280 [==============================] - 1s 656us/step - loss: 0.4476 - val_loss: 0.4592\n",
            "Epoch 10/100\n",
            "2280/2280 [==============================] - 2s 670us/step - loss: 0.3639 - val_loss: 0.3432\n",
            "Epoch 11/100\n",
            "2280/2280 [==============================] - 1s 652us/step - loss: 0.3101 - val_loss: 0.2701\n",
            "Epoch 12/100\n",
            "2280/2280 [==============================] - 2s 662us/step - loss: 0.2624 - val_loss: 0.2419\n",
            "Epoch 13/100\n",
            "2280/2280 [==============================] - 1s 641us/step - loss: 0.2417 - val_loss: 0.2816\n",
            "Epoch 14/100\n",
            "2280/2280 [==============================] - 2s 662us/step - loss: 0.2334 - val_loss: 0.1618\n",
            "Epoch 15/100\n",
            "2280/2280 [==============================] - 1s 656us/step - loss: 0.2256 - val_loss: 0.1755\n",
            "Epoch 16/100\n",
            "2280/2280 [==============================] - 1s 648us/step - loss: 0.1930 - val_loss: 0.1704\n",
            "Epoch 17/100\n",
            "2280/2280 [==============================] - 1s 650us/step - loss: 0.1695 - val_loss: 0.1301\n",
            "Epoch 18/100\n",
            "2280/2280 [==============================] - 1s 651us/step - loss: 0.1505 - val_loss: 0.1324\n",
            "Epoch 19/100\n",
            "2280/2280 [==============================] - 1s 644us/step - loss: 0.1426 - val_loss: 0.1278\n",
            "Epoch 20/100\n",
            "2280/2280 [==============================] - 2s 662us/step - loss: 0.1290 - val_loss: 0.1381\n",
            "Epoch 21/100\n",
            "2280/2280 [==============================] - 1s 646us/step - loss: 0.1305 - val_loss: 0.1560\n",
            "Epoch 22/100\n",
            "2280/2280 [==============================] - 1s 654us/step - loss: 0.1350 - val_loss: 0.1529\n",
            "Epoch 23/100\n",
            "2280/2280 [==============================] - 1s 655us/step - loss: 0.1212 - val_loss: 0.1323\n",
            "Epoch 24/100\n",
            "2280/2280 [==============================] - 1s 647us/step - loss: 0.1141 - val_loss: 0.1249\n",
            "Epoch 25/100\n",
            "2280/2280 [==============================] - 2s 666us/step - loss: 0.1062 - val_loss: 0.1146\n",
            "Epoch 26/100\n",
            "2280/2280 [==============================] - 2s 665us/step - loss: 0.0994 - val_loss: 0.1103\n",
            "Epoch 27/100\n",
            "2280/2280 [==============================] - 2s 669us/step - loss: 0.0980 - val_loss: 0.1114\n",
            "Epoch 28/100\n",
            "2280/2280 [==============================] - 2s 659us/step - loss: 0.0929 - val_loss: 0.1263\n",
            "Epoch 29/100\n",
            "2280/2280 [==============================] - 1s 654us/step - loss: 0.0895 - val_loss: 0.1720\n",
            "Epoch 30/100\n",
            "2280/2280 [==============================] - 2s 664us/step - loss: 0.0980 - val_loss: 0.1693\n",
            "Epoch 31/100\n",
            "2280/2280 [==============================] - 2s 661us/step - loss: 0.0918 - val_loss: 0.1084\n",
            "Epoch 32/100\n",
            "2280/2280 [==============================] - 1s 651us/step - loss: 0.0842 - val_loss: 0.0994\n",
            "Epoch 33/100\n",
            "2280/2280 [==============================] - 1s 651us/step - loss: 0.0782 - val_loss: 0.1258\n",
            "Epoch 34/100\n",
            "2280/2280 [==============================] - 2s 661us/step - loss: 0.0836 - val_loss: 0.1064\n",
            "Epoch 35/100\n",
            "2280/2280 [==============================] - 1s 651us/step - loss: 0.0785 - val_loss: 0.0930\n",
            "Epoch 36/100\n",
            "2280/2280 [==============================] - 1s 642us/step - loss: 0.0778 - val_loss: 0.1029\n",
            "Epoch 37/100\n",
            "2280/2280 [==============================] - 2s 665us/step - loss: 0.0668 - val_loss: 0.0985\n",
            "Epoch 38/100\n",
            "2280/2280 [==============================] - 1s 639us/step - loss: 0.0787 - val_loss: 0.0894\n",
            "Epoch 39/100\n",
            "2280/2280 [==============================] - 2s 660us/step - loss: 0.0689 - val_loss: 0.0888\n",
            "Epoch 40/100\n",
            "2280/2280 [==============================] - 1s 657us/step - loss: 0.0627 - val_loss: 0.0746\n",
            "Epoch 41/100\n",
            "2280/2280 [==============================] - 2s 664us/step - loss: 0.0602 - val_loss: 0.0718\n",
            "Epoch 42/100\n",
            "2280/2280 [==============================] - 1s 647us/step - loss: 0.0604 - val_loss: 0.0726\n",
            "Epoch 43/100\n",
            "2280/2280 [==============================] - 2s 665us/step - loss: 0.0572 - val_loss: 0.0805\n",
            "Epoch 44/100\n",
            "2280/2280 [==============================] - 2s 662us/step - loss: 0.0567 - val_loss: 0.0974\n",
            "Epoch 45/100\n",
            "2280/2280 [==============================] - 2s 671us/step - loss: 0.0557 - val_loss: 0.0949\n",
            "Epoch 46/100\n",
            "2280/2280 [==============================] - 2s 676us/step - loss: 0.0542 - val_loss: 0.0943\n",
            "Epoch 47/100\n",
            "2280/2280 [==============================] - 2s 690us/step - loss: 0.0529 - val_loss: 0.0948\n",
            "Epoch 48/100\n",
            "2280/2280 [==============================] - 2s 681us/step - loss: 0.0498 - val_loss: 0.0994\n",
            "Epoch 49/100\n",
            "2280/2280 [==============================] - 2s 678us/step - loss: 0.0503 - val_loss: 0.1068\n",
            "Epoch 50/100\n",
            "2280/2280 [==============================] - 2s 676us/step - loss: 0.0509 - val_loss: 0.1225\n",
            "Epoch 51/100\n",
            "2280/2280 [==============================] - 2s 680us/step - loss: 0.0515 - val_loss: 0.1412\n",
            "Epoch 52/100\n",
            "2280/2280 [==============================] - 1s 648us/step - loss: 0.0493 - val_loss: 0.1411\n",
            "Epoch 53/100\n",
            "2280/2280 [==============================] - 2s 666us/step - loss: 0.0482 - val_loss: 0.1390\n",
            "Epoch 54/100\n",
            "2280/2280 [==============================] - 1s 656us/step - loss: 0.0496 - val_loss: 0.1524\n",
            "Epoch 55/100\n",
            "2280/2280 [==============================] - 2s 658us/step - loss: 0.0581 - val_loss: 0.1213\n",
            "Epoch 56/100\n",
            "2280/2280 [==============================] - 1s 646us/step - loss: 0.0474 - val_loss: 0.1176\n",
            "Epoch 57/100\n",
            "2280/2280 [==============================] - 1s 655us/step - loss: 0.0475 - val_loss: 0.0728\n",
            "Epoch 58/100\n",
            "2280/2280 [==============================] - 2s 659us/step - loss: 0.0480 - val_loss: 0.0762\n",
            "Epoch 59/100\n",
            "2280/2280 [==============================] - 1s 657us/step - loss: 0.0556 - val_loss: 0.1096\n",
            "Epoch 60/100\n",
            "2280/2280 [==============================] - 1s 648us/step - loss: 0.0462 - val_loss: 0.1577\n",
            "Epoch 61/100\n",
            "2280/2280 [==============================] - 2s 662us/step - loss: 0.0452 - val_loss: 0.1195\n",
            "Epoch 62/100\n",
            "2280/2280 [==============================] - 2s 663us/step - loss: 0.0437 - val_loss: 0.1158\n",
            "Epoch 63/100\n",
            "2280/2280 [==============================] - 2s 664us/step - loss: 0.0424 - val_loss: 0.1396\n",
            "Epoch 64/100\n",
            "2280/2280 [==============================] - 2s 668us/step - loss: 0.0416 - val_loss: 0.1073\n",
            "Epoch 65/100\n",
            "2280/2280 [==============================] - 2s 664us/step - loss: 0.0527 - val_loss: 0.1017\n",
            "Epoch 66/100\n",
            "2280/2280 [==============================] - 1s 655us/step - loss: 0.0505 - val_loss: 0.1398\n",
            "Epoch 67/100\n",
            "2280/2280 [==============================] - 2s 666us/step - loss: 0.0701 - val_loss: 0.0898\n",
            "Epoch 68/100\n",
            "2280/2280 [==============================] - 2s 664us/step - loss: 0.0517 - val_loss: 0.0801\n",
            "Epoch 69/100\n",
            "2280/2280 [==============================] - 1s 656us/step - loss: 0.0523 - val_loss: 0.0948\n",
            "Epoch 70/100\n",
            "2280/2280 [==============================] - 1s 652us/step - loss: 0.0463 - val_loss: 0.1135\n",
            "Epoch 71/100\n",
            "2280/2280 [==============================] - 1s 654us/step - loss: 0.0488 - val_loss: 0.1187\n",
            "Epoch 72/100\n",
            "2280/2280 [==============================] - 1s 652us/step - loss: 0.0426 - val_loss: 0.1068\n",
            "Epoch 73/100\n",
            "2280/2280 [==============================] - 1s 639us/step - loss: 0.0429 - val_loss: 0.1026\n",
            "Epoch 74/100\n",
            "2280/2280 [==============================] - 1s 649us/step - loss: 0.0421 - val_loss: 0.1022\n",
            "Epoch 75/100\n",
            "2280/2280 [==============================] - 2s 661us/step - loss: 0.0435 - val_loss: 0.0942\n",
            "Epoch 76/100\n",
            "2280/2280 [==============================] - 2s 666us/step - loss: 0.0407 - val_loss: 0.1007\n",
            "Epoch 77/100\n",
            "2280/2280 [==============================] - 2s 660us/step - loss: 0.0397 - val_loss: 0.1013\n",
            "Epoch 78/100\n",
            "2280/2280 [==============================] - 2s 665us/step - loss: 0.0380 - val_loss: 0.0905\n",
            "Epoch 79/100\n",
            "2280/2280 [==============================] - 1s 652us/step - loss: 0.0400 - val_loss: 0.0901\n",
            "Epoch 80/100\n",
            "2280/2280 [==============================] - 1s 655us/step - loss: 0.0367 - val_loss: 0.0930\n",
            "Epoch 81/100\n",
            "2280/2280 [==============================] - 2s 665us/step - loss: 0.0324 - val_loss: 0.0966\n",
            "Epoch 82/100\n",
            "2280/2280 [==============================] - 1s 630us/step - loss: 0.0341 - val_loss: 0.1028\n",
            "Epoch 83/100\n",
            "2280/2280 [==============================] - 2s 665us/step - loss: 0.0303 - val_loss: 0.0994\n",
            "Epoch 84/100\n",
            "2280/2280 [==============================] - 1s 647us/step - loss: 0.0307 - val_loss: 0.0932\n",
            "Epoch 85/100\n",
            "2280/2280 [==============================] - 1s 647us/step - loss: 0.0320 - val_loss: 0.0960\n",
            "Epoch 86/100\n",
            "2280/2280 [==============================] - 2s 661us/step - loss: 0.0276 - val_loss: 0.1047\n",
            "Epoch 87/100\n",
            "2280/2280 [==============================] - 1s 651us/step - loss: 0.0281 - val_loss: 0.1006\n",
            "Epoch 88/100\n",
            "2280/2280 [==============================] - 1s 653us/step - loss: 0.0267 - val_loss: 0.0971\n",
            "Epoch 89/100\n",
            "2280/2280 [==============================] - 1s 649us/step - loss: 0.0265 - val_loss: 0.0905\n",
            "Epoch 90/100\n",
            "2280/2280 [==============================] - 1s 636us/step - loss: 0.0273 - val_loss: 0.0845\n",
            "Epoch 91/100\n",
            "2280/2280 [==============================] - 1s 643us/step - loss: 0.0263 - val_loss: 0.0922\n",
            "Epoch 92/100\n",
            "2280/2280 [==============================] - 1s 633us/step - loss: 0.0246 - val_loss: 0.1031\n",
            "Epoch 93/100\n",
            "2280/2280 [==============================] - 1s 644us/step - loss: 0.0258 - val_loss: 0.1087\n",
            "Epoch 94/100\n",
            "2280/2280 [==============================] - 1s 648us/step - loss: 0.0244 - val_loss: 0.1112\n",
            "Epoch 95/100\n",
            "2280/2280 [==============================] - 1s 652us/step - loss: 0.0245 - val_loss: 0.1070\n",
            "Epoch 96/100\n",
            "2280/2280 [==============================] - 1s 652us/step - loss: 0.0224 - val_loss: 0.1043\n",
            "Epoch 97/100\n",
            "2280/2280 [==============================] - 1s 655us/step - loss: 0.0224 - val_loss: 0.1071\n",
            "Epoch 98/100\n",
            "2280/2280 [==============================] - 1s 646us/step - loss: 0.0219 - val_loss: 0.0957\n",
            "Epoch 99/100\n",
            "2280/2280 [==============================] - 1s 645us/step - loss: 0.0212 - val_loss: 0.0867\n",
            "Epoch 100/100\n",
            "2280/2280 [==============================] - 1s 644us/step - loss: 0.0223 - val_loss: 0.0881\n",
            "Training time 160 seconds\n"
          ],
          "name": "stdout"
        }
      ]
    },
    {
      "cell_type": "code",
      "metadata": {
        "id": "mJcDS_igS-ez",
        "colab_type": "code",
        "colab": {
          "base_uri": "https://localhost:8080/",
          "height": 370
        },
        "outputId": "0b1881e2-b2cb-4411-fa78-444187a4cd09"
      },
      "source": [
        "y_predict, real_y_test, real_y_predict, fig1 = test_model(model, X_test, Y_test, unnormalized_bases)\n",
        "\n",
        "#Show the plot\n",
        "plt.show(fig1)"
      ],
      "execution_count": 18,
      "outputs": [
        {
          "output_type": "display_data",
          "data": {
            "image/png": "[encoded data removed]",
            "text/plain": [
              "<Figure size 720x360 with 1 Axes>"
            ]
          },
          "metadata": {
            "tags": []
          }
        }
      ]
    },
    {
      "cell_type": "code",
      "metadata": {
        "id": "ZL7RQDQ4TDyz",
        "colab_type": "code",
        "colab": {
          "base_uri": "https://localhost:8080/",
          "height": 424
        },
        "outputId": "84c67ec4-1bd4-45a0-c4a9-bd211a897286"
      },
      "source": [
        "Y_daybefore, Y_test, delta_predict, delta_real, fig2 = price_change(Y_daybefore, Y_test, y_predict)\n",
        "\n",
        "#Show the plot\n",
        "plt.show(fig2)"
      ],
      "execution_count": 19,
      "outputs": [
        {
          "output_type": "display_data",
          "data": {
            "image/png": "[encoded data removed]",
            "text/plain": [
              "<Figure size 720x432 with 1 Axes>"
            ]
          },
          "metadata": {
            "tags": []
          }
        }
      ]
    },
    {
      "cell_type": "code",
      "metadata": {
        "id": "bnxHlS8zTdog",
        "colab_type": "code",
        "colab": {
          "base_uri": "https://localhost:8080/",
          "height": 50
        },
        "outputId": "7bd5f2ef-5904-4646-e417-eb3523b741e7"
      },
      "source": [
        "delta_predict_1_0, delta_real_1_0 = binary_price(delta_predict, delta_real)\n",
        "\n",
        "print (delta_predict_1_0.shape)\n",
        "print (delta_real_1_0.shape)"
      ],
      "execution_count": 20,
      "outputs": [
        {
          "output_type": "stream",
          "text": [
            "(267, 1)\n",
            "(267, 1)\n"
          ],
          "name": "stdout"
        }
      ]
    },
    {
      "cell_type": "code",
      "metadata": {
        "id": "Fhavvy-kTeDz",
        "colab_type": "code",
        "colab": {
          "base_uri": "https://localhost:8080/",
          "height": 84
        },
        "outputId": "9807588b-072e-4544-d8ab-f1007e0dcec6"
      },
      "source": [
        "true_pos, false_pos, true_neg, false_neg = find_positives_negatives(delta_predict_1_0, delta_real_1_0)\n",
        "print (\"True positives:\", true_pos)\n",
        "print (\"False positives:\", false_pos)\n",
        "print (\"True negatives:\", true_neg)\n",
        "print (\"False negatives:\", false_neg)"
      ],
      "execution_count": 21,
      "outputs": [
        {
          "output_type": "stream",
          "text": [
            "True positives: 80\n",
            "False positives: 50\n",
            "True negatives: 49\n",
            "False negatives: 88\n"
          ],
          "name": "stdout"
        }
      ]
    },
    {
      "cell_type": "code",
      "metadata": {
        "id": "cbBEv5ZxTgE0",
        "colab_type": "code",
        "colab": {
          "base_uri": "https://localhost:8080/",
          "height": 84
        },
        "outputId": "35115ca3-7f44-4eec-92d1-5a64c0f4e4e5"
      },
      "source": [
        "precision, recall, F1, MSE = calculate_statistics(true_pos, false_pos, true_neg, false_neg, y_predict, Y_test)\n",
        "print (\"Precision:\", precision)\n",
        "print (\"Recall:\", recall)\n",
        "print (\"F1 score:\", F1)\n",
        "print (\"Mean Squared Error:\", MSE)"
      ],
      "execution_count": 22,
      "outputs": [
        {
          "output_type": "stream",
          "text": [
            "Precision: 0.6153846153846154\n",
            "Recall: 0.47619047619047616\n",
            "F1 score: 0.5369127516778524\n",
            "Mean Squared Error: 0.09888136274004806\n"
          ],
          "name": "stdout"
        }
      ]
    },
    {
      "cell_type": "code",
      "metadata": {
        "id": "U3CuBRr9TiLo",
        "colab_type": "code",
        "colab": {}
      },
      "source": [
        ""
      ],
      "execution_count": 0,
      "outputs": []
    }
  ]
}