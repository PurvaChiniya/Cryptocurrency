{
  "nbformat": 4,
  "nbformat_minor": 0,
  "metadata": {
    "colab": {
      "name": "linear_regressionipynb",
      "version": "0.3.2",
      "provenance": []
    },
    "kernelspec": {
      "name": "python3",
      "display_name": "Python 3"
    }
  },
  "cells": [
    {
      "cell_type": "code",
      "metadata": {
        "id": "_uo_WnQ-OTHD",
        "colab_type": "code",
        "colab": {}
      },
      "source": [
        "import json\n",
        "import requests\n",
        "\n",
        "from keras.models import Sequential\n",
        "from keras.layers import Activation, Dense, Dropout, LSTM\n",
        "import matplotlib.pyplot as plt\n",
        "import numpy as np\n",
        "import pandas as pd\n",
        "import seaborn as sns\n",
        "from sklearn.metrics import mean_absolute_error\n",
        "\n",
        "sns.set_palette('Set2')\n",
        "%matplotlib inline"
      ],
      "execution_count": 0,
      "outputs": []
    },
    {
      "cell_type": "code",
      "metadata": {
        "id": "4b5_1AHEOYoK",
        "colab_type": "code",
        "colab": {
          "base_uri": "https://localhost:8080/",
          "height": 54
        },
        "outputId": "33287f4e-5db8-4707-f792-4a461fd29a82"
      },
      "source": [
        "from google.colab import drive\n",
        "drive.mount('/content/drive')"
      ],
      "execution_count": 87,
      "outputs": [
        {
          "output_type": "stream",
          "text": [
            "Drive already mounted at /content/drive; to attempt to forcibly remount, call drive.mount(\"/content/drive\", force_remount=True).\n"
          ],
          "name": "stdout"
        }
      ]
    },
    {
      "cell_type": "code",
      "metadata": {
        "id": "_JEkbuVMuTul",
        "colab_type": "code",
        "colab": {
          "base_uri": "https://localhost:8080/",
          "height": 34
        },
        "outputId": "d24f4736-7049-4ffe-b582-5b5f2592e2b8"
      },
      "source": [
        "cd /content/drive/My Drive/nus_blockchain"
      ],
      "execution_count": 88,
      "outputs": [
        {
          "output_type": "stream",
          "text": [
            "/content/drive/My Drive/nus_blockchain\n"
          ],
          "name": "stdout"
        }
      ]
    },
    {
      "cell_type": "code",
      "metadata": {
        "id": "PAcjVWZ-peEx",
        "colab_type": "code",
        "colab": {}
      },
      "source": [
        "import zipfile\n",
        "\n",
        "zip_ref = zipfile.ZipFile(\"/content/drive/My Drive/nus_blockchain/bitcoin-historical-data.zip\", 'r')\n",
        "zip_ref.extractall()\n",
        "zip_ref.close()\n",
        "data = pd.read_csv('/content/drive/My Drive/nus_blockchain/bitstampUSD_1-min_data_2012-01-01_to_2019-08-12.csv')\n",
        "data.isnull().values.any()\n",
        "data = data.dropna(how='any',axis=0)"
      ],
      "execution_count": 0,
      "outputs": []
    },
    {
      "cell_type": "code",
      "metadata": {
        "id": "2nlsAdX3qqzO",
        "colab_type": "code",
        "colab": {
          "base_uri": "https://localhost:8080/",
          "height": 215
        },
        "outputId": "a8133cde-7d50-45fd-cf72-355a77aa0fa5"
      },
      "source": [
        "data.head()"
      ],
      "execution_count": 90,
      "outputs": [
        {
          "output_type": "execute_result",
          "data": {
            "text/html": [
              "<div>\n",
              "<style scoped>\n",
              "    .dataframe tbody tr th:only-of-type {\n",
              "        vertical-align: middle;\n",
              "    }\n",
              "\n",
              "    .dataframe tbody tr th {\n",
              "        vertical-align: top;\n",
              "    }\n",
              "\n",
              "    .dataframe thead th {\n",
              "        text-align: right;\n",
              "    }\n",
              "</style>\n",
              "<table border=\"1\" class=\"dataframe\">\n",
              "  <thead>\n",
              "    <tr style=\"text-align: right;\">\n",
              "      <th></th>\n",
              "      <th>Timestamp</th>\n",
              "      <th>Open</th>\n",
              "      <th>High</th>\n",
              "      <th>Low</th>\n",
              "      <th>Close</th>\n",
              "      <th>Volume_(BTC)</th>\n",
              "      <th>Volume_(Currency)</th>\n",
              "      <th>Weighted_Price</th>\n",
              "    </tr>\n",
              "  </thead>\n",
              "  <tbody>\n",
              "    <tr>\n",
              "      <th>0</th>\n",
              "      <td>1325317920</td>\n",
              "      <td>4.39</td>\n",
              "      <td>4.39</td>\n",
              "      <td>4.39</td>\n",
              "      <td>4.39</td>\n",
              "      <td>0.455581</td>\n",
              "      <td>2.000000</td>\n",
              "      <td>4.390000</td>\n",
              "    </tr>\n",
              "    <tr>\n",
              "      <th>478</th>\n",
              "      <td>1325346600</td>\n",
              "      <td>4.39</td>\n",
              "      <td>4.39</td>\n",
              "      <td>4.39</td>\n",
              "      <td>4.39</td>\n",
              "      <td>48.000000</td>\n",
              "      <td>210.720000</td>\n",
              "      <td>4.390000</td>\n",
              "    </tr>\n",
              "    <tr>\n",
              "      <th>547</th>\n",
              "      <td>1325350740</td>\n",
              "      <td>4.50</td>\n",
              "      <td>4.57</td>\n",
              "      <td>4.50</td>\n",
              "      <td>4.57</td>\n",
              "      <td>37.862297</td>\n",
              "      <td>171.380338</td>\n",
              "      <td>4.526411</td>\n",
              "    </tr>\n",
              "    <tr>\n",
              "      <th>548</th>\n",
              "      <td>1325350800</td>\n",
              "      <td>4.58</td>\n",
              "      <td>4.58</td>\n",
              "      <td>4.58</td>\n",
              "      <td>4.58</td>\n",
              "      <td>9.000000</td>\n",
              "      <td>41.220000</td>\n",
              "      <td>4.580000</td>\n",
              "    </tr>\n",
              "    <tr>\n",
              "      <th>1224</th>\n",
              "      <td>1325391360</td>\n",
              "      <td>4.58</td>\n",
              "      <td>4.58</td>\n",
              "      <td>4.58</td>\n",
              "      <td>4.58</td>\n",
              "      <td>1.502000</td>\n",
              "      <td>6.879160</td>\n",
              "      <td>4.580000</td>\n",
              "    </tr>\n",
              "  </tbody>\n",
              "</table>\n",
              "</div>"
            ],
            "text/plain": [
              "       Timestamp  Open  High  ...  Volume_(BTC)  Volume_(Currency)  Weighted_Price\n",
              "0     1325317920  4.39  4.39  ...      0.455581           2.000000        4.390000\n",
              "478   1325346600  4.39  4.39  ...     48.000000         210.720000        4.390000\n",
              "547   1325350740  4.50  4.57  ...     37.862297         171.380338        4.526411\n",
              "548   1325350800  4.58  4.58  ...      9.000000          41.220000        4.580000\n",
              "1224  1325391360  4.58  4.58  ...      1.502000           6.879160        4.580000\n",
              "\n",
              "[5 rows x 8 columns]"
            ]
          },
          "metadata": {
            "tags": []
          },
          "execution_count": 90
        }
      ]
    },
    {
      "cell_type": "code",
      "metadata": {
        "id": "Gb9pd3EnrUKQ",
        "colab_type": "code",
        "colab": {
          "base_uri": "https://localhost:8080/",
          "height": 134
        },
        "outputId": "9ec1565d-a50d-4957-bf93-a4f3ca4bbad2"
      },
      "source": [
        "data['Date'] = pd.to_datetime(data['Timestamp'],unit='s').dt.date\n",
        "group = data.groupby('Date')\n",
        "Daily_Price = group['Weighted_Price'].mean()\n",
        "Daily_Price.head()"
      ],
      "execution_count": 91,
      "outputs": [
        {
          "output_type": "execute_result",
          "data": {
            "text/plain": [
              "Date\n",
              "2011-12-31    4.471603\n",
              "2012-01-01    4.806667\n",
              "2012-01-02    5.000000\n",
              "2012-01-03    5.252500\n",
              "2012-01-04    5.208159\n",
              "Name: Weighted_Price, dtype: float64"
            ]
          },
          "metadata": {
            "tags": []
          },
          "execution_count": 91
        }
      ]
    },
    {
      "cell_type": "code",
      "metadata": {
        "id": "lCd2EjC2reJ9",
        "colab_type": "code",
        "colab": {}
      },
      "source": [
        "new_data= pd.DataFrame(list(Daily_Price), index = Daily_Price.index, columns = [\"Close\"])"
      ],
      "execution_count": 0,
      "outputs": []
    },
    {
      "cell_type": "code",
      "metadata": {
        "id": "J0AbewQPsOfz",
        "colab_type": "code",
        "colab": {
          "base_uri": "https://localhost:8080/",
          "height": 225
        },
        "outputId": "f196eb07-60bb-4e04-d812-3f683d981b4f"
      },
      "source": [
        "new_data.head()"
      ],
      "execution_count": 94,
      "outputs": [
        {
          "output_type": "execute_result",
          "data": {
            "text/html": [
              "<div>\n",
              "<style scoped>\n",
              "    .dataframe tbody tr th:only-of-type {\n",
              "        vertical-align: middle;\n",
              "    }\n",
              "\n",
              "    .dataframe tbody tr th {\n",
              "        vertical-align: top;\n",
              "    }\n",
              "\n",
              "    .dataframe thead th {\n",
              "        text-align: right;\n",
              "    }\n",
              "</style>\n",
              "<table border=\"1\" class=\"dataframe\">\n",
              "  <thead>\n",
              "    <tr style=\"text-align: right;\">\n",
              "      <th></th>\n",
              "      <th>Close</th>\n",
              "    </tr>\n",
              "    <tr>\n",
              "      <th>Date</th>\n",
              "      <th></th>\n",
              "    </tr>\n",
              "  </thead>\n",
              "  <tbody>\n",
              "    <tr>\n",
              "      <th>2011-12-31</th>\n",
              "      <td>4.471603</td>\n",
              "    </tr>\n",
              "    <tr>\n",
              "      <th>2012-01-01</th>\n",
              "      <td>4.806667</td>\n",
              "    </tr>\n",
              "    <tr>\n",
              "      <th>2012-01-02</th>\n",
              "      <td>5.000000</td>\n",
              "    </tr>\n",
              "    <tr>\n",
              "      <th>2012-01-03</th>\n",
              "      <td>5.252500</td>\n",
              "    </tr>\n",
              "    <tr>\n",
              "      <th>2012-01-04</th>\n",
              "      <td>5.208159</td>\n",
              "    </tr>\n",
              "  </tbody>\n",
              "</table>\n",
              "</div>"
            ],
            "text/plain": [
              "               Close\n",
              "Date                \n",
              "2011-12-31  4.471603\n",
              "2012-01-01  4.806667\n",
              "2012-01-02  5.000000\n",
              "2012-01-03  5.252500\n",
              "2012-01-04  5.208159"
            ]
          },
          "metadata": {
            "tags": []
          },
          "execution_count": 94
        }
      ]
    },
    {
      "cell_type": "code",
      "metadata": {
        "id": "6hZyS9HWsd_F",
        "colab_type": "code",
        "colab": {
          "base_uri": "https://localhost:8080/",
          "height": 334
        },
        "outputId": "bdf7427b-2050-4c5d-f2b9-54acfe9c306d"
      },
      "source": [
        "plt.plot(new_data,color='green', lw=2)\n",
        "plt.title(\"BitCoin Data\",fontsize=24)\n",
        "plt.xlabel('time in days',fontsize=24)\n",
        "plt.ylabel('$(Dollar)',fontsize=24)"
      ],
      "execution_count": 95,
      "outputs": [
        {
          "output_type": "execute_result",
          "data": {
            "text/plain": [
              "Text(0, 0.5, '$(Dollar)')"
            ]
          },
          "metadata": {
            "tags": []
          },
          "execution_count": 95
        },
        {
          "output_type": "display_data",
          "data": {
            "image/png": "[encoded data removed]",
            "text/plain": [
              "<Figure size 432x288 with 1 Axes>"
            ]
          },
          "metadata": {
            "tags": []
          }
        }
      ]
    },
    {
      "cell_type": "code",
      "metadata": {
        "id": "k9EHvyTushpM",
        "colab_type": "code",
        "colab": {
          "base_uri": "https://localhost:8080/",
          "height": 134
        },
        "outputId": "04ef7086-e6e4-43a7-cfc1-9e02df85c0bf"
      },
      "source": [
        "# df = df[['Close']]\n",
        "data=new_data\n",
        "forecast_out = int(20)\n",
        "\n",
        "data['Prediction'] = data[['Close']].shift(-forecast_out)\n",
        "\n",
        "X = np.array(data.drop(['Prediction'],1))\n",
        "X = preprocessing.scale(X)\n",
        "\n",
        "X_forecast = X[-forecast_out:]\n",
        "X = X[:-forecast_out]\n",
        "\n",
        "y = np.array(data['Prediction'])\n",
        "y = y[:-forecast_out]\n",
        "from sklearn import model_selection\n",
        "X_train, X_test, y_train, y_test = model_selection.train_test_split(X, y, test_size = 0.2,random_state=0)\n",
        "\n",
        "clf = LinearRegression()\n",
        "clf.fit(X_train,y_train)\n",
        "\n",
        "y_predict = clf.predict(X_test)\n",
        "print(y_predict[0])\n",
        "confidence = clf.score(X_test, y_test)\n",
        "print(\"confidence: \", confidence)\n",
        "\n",
        "forecast_prediction = clf.predict(X_forecast)\n",
        "print(forecast_prediction)"
      ],
      "execution_count": 102,
      "outputs": [
        {
          "output_type": "stream",
          "text": [
            "7907.075370722466\n",
            "confidence:  0.921453824525453\n",
            "[ 9667.08685357  9976.27362179  9738.03231752  9692.27827737\n",
            "  9452.99219516  9506.56002095  9507.61295372  9819.68857824\n",
            " 10043.30404746 10426.85175101 10731.51476505 10766.98142673\n",
            " 11607.78050533 11688.25263989 11642.97327045 11731.30042299\n",
            " 11748.99771836 11512.38613697 11315.14866    11474.69612356]\n"
          ],
          "name": "stdout"
        }
      ]
    },
    {
      "cell_type": "code",
      "metadata": {
        "id": "xBaGfOLEssAD",
        "colab_type": "code",
        "colab": {
          "base_uri": "https://localhost:8080/",
          "height": 318
        },
        "outputId": "f774f5b9-20d7-4694-a602-7916998fc527"
      },
      "source": [
        "import matplotlib.pyplot as plt\n",
        "# print(X_test)\n",
        "# print(y_test)\n",
        "# plt.plot(X_test,forecast_set,color='blue', linewidth=1)\n",
        "plt.scatter(X_test, y_test, color='darkorange', label='test_data')\n",
        "plt.plot(X_test, y_predict, color='green', linewidth=2,label='predicted data')\n",
        "# plt.plot(new_df,color='green', lw=2)\n",
        "plt.title(\"Crossvalidation (Linear Regression)\",fontsize=24)\n",
        "plt.xlabel('X_test',fontsize=24)\n",
        "plt.ylabel('y',fontsize=24)\n",
        "# plt.plot(X_test, forecast_prediction, color='blue', linew/idth=2)\n",
        "plt.show()"
      ],
      "execution_count": 103,
      "outputs": [
        {
          "output_type": "display_data",
          "data": {
            "image/png": "[encoded data removed]",
            "text/plain": [
              "<Figure size 432x288 with 1 Axes>"
            ]
          },
          "metadata": {
            "tags": []
          }
        }
      ]
    },
    {
      "cell_type": "code",
      "metadata": {
        "id": "56uZtFgKv0Ye",
        "colab_type": "code",
        "colab": {
          "base_uri": "https://localhost:8080/",
          "height": 34
        },
        "outputId": "5891e77e-7958-4a50-e09d-530c2912e2a3"
      },
      "source": [
        "from sklearn.metrics import mean_squared_error\n",
        "from math import sqrt\n",
        "rms = sqrt(mean_squared_error(y_test, y_predict))\n",
        "print(rms)"
      ],
      "execution_count": 104,
      "outputs": [
        {
          "output_type": "stream",
          "text": [
            "967.036225678407\n"
          ],
          "name": "stdout"
        }
      ]
    },
    {
      "cell_type": "code",
      "metadata": {
        "id": "TmHaPsUNv67v",
        "colab_type": "code",
        "colab": {
          "base_uri": "https://localhost:8080/",
          "height": 34
        },
        "outputId": "af654616-7ce2-44e6-8e3c-ec480d51fb1e"
      },
      "source": [
        "last_date = new_data.iloc[-1].name\n",
        "print(last_date)"
      ],
      "execution_count": 105,
      "outputs": [
        {
          "output_type": "stream",
          "text": [
            "2019-08-12\n"
          ],
          "name": "stdout"
        }
      ]
    },
    {
      "cell_type": "code",
      "metadata": {
        "id": "mmv93pb7wsE3",
        "colab_type": "code",
        "colab": {
          "base_uri": "https://localhost:8080/",
          "height": 252
        },
        "outputId": "f1c46c07-e1cb-4d44-b755-768a5ea9e49b"
      },
      "source": [
        "import pandas as pd\n",
        "import numpy as np\n",
        "from datetime import datetime, timedelta\n",
        "date_today = last_date\n",
        "days = pd.date_range(date_today, date_today + timedelta(19), freq='D')\n",
        "print(len(days),len(forecast_prediction))\n",
        "df1 = pd.DataFrame({'Date': days, 'Close': forecast_prediction})\n",
        "df1 =df1.set_index('Date')\n",
        "df1.info()\n",
        "print(data.head())"
      ],
      "execution_count": 107,
      "outputs": [
        {
          "output_type": "stream",
          "text": [
            "20 20\n",
            "<class 'pandas.core.frame.DataFrame'>\n",
            "DatetimeIndex: 20 entries, 2019-08-12 to 2019-08-31\n",
            "Data columns (total 1 columns):\n",
            "Close    20 non-null float64\n",
            "dtypes: float64(1)\n",
            "memory usage: 320.0 bytes\n",
            "               Close  Prediction\n",
            "Date                            \n",
            "2011-12-31  4.471603    6.835000\n",
            "2012-01-01  4.806667    6.386000\n",
            "2012-01-02  5.000000    6.485000\n",
            "2012-01-03  5.252500    6.407500\n",
            "2012-01-04  5.208159    6.495556\n"
          ],
          "name": "stdout"
        }
      ]
    },
    {
      "cell_type": "code",
      "metadata": {
        "id": "HeuVADhswyeo",
        "colab_type": "code",
        "colab": {
          "base_uri": "https://localhost:8080/",
          "height": 334
        },
        "outputId": "598d28e8-ab34-446b-bd6a-351b38116821"
      },
      "source": [
        "plt.plot(df1,color='green', lw=2)\n",
        "plt.title(\"Predicted Next 30 Days\",fontsize=24)\n",
        "plt.xlabel('time in days',fontsize=24)\n",
        "plt.ylabel('$(Dollar)',fontsize=24)"
      ],
      "execution_count": 108,
      "outputs": [
        {
          "output_type": "execute_result",
          "data": {
            "text/plain": [
              "Text(0, 0.5, '$(Dollar)')"
            ]
          },
          "metadata": {
            "tags": []
          },
          "execution_count": 108
        },
        {
          "output_type": "display_data",
          "data": {
            "image/png": "[encoded data removed]",
            "text/plain": [
              "<Figure size 432x288 with 1 Axes>"
            ]
          },
          "metadata": {
            "tags": []
          }
        }
      ]
    },
    {
      "cell_type": "code",
      "metadata": {
        "id": "jCgSpUE3w7oD",
        "colab_type": "code",
        "colab": {
          "base_uri": "https://localhost:8080/",
          "height": 334
        },
        "outputId": "aae45134-999c-459c-b60d-dba67d635ca0"
      },
      "source": [
        "plt.plot(df1,)\n",
        "plt.plot(data['Close'],color='green', lw=2, label='Bitcoin Data')\n",
        "plt.plot(df1['Close'],color='red', lw=2, label='Predicted')\n",
        "plt.title(\"Predicted (Linear Regression 30 Days)\",fontsize=24)\n",
        "plt.xlabel('time in days',fontsize=24)\n",
        "plt.ylabel('$(Dollar)',fontsize=24)"
      ],
      "execution_count": 109,
      "outputs": [
        {
          "output_type": "execute_result",
          "data": {
            "text/plain": [
              "Text(0, 0.5, '$(Dollar)')"
            ]
          },
          "metadata": {
            "tags": []
          },
          "execution_count": 109
        },
        {
          "output_type": "display_data",
          "data": {
            "image/png": "[encoded data removed]",
            "text/plain": [
              "<Figure size 432x288 with 1 Axes>"
            ]
          },
          "metadata": {
            "tags": []
          }
        }
      ]
    },
    {
      "cell_type": "code",
      "metadata": {
        "id": "HZtvzuuFxHpK",
        "colab_type": "code",
        "colab": {}
      },
      "source": [
        ""
      ],
      "execution_count": 0,
      "outputs": []
    }
  ]
}